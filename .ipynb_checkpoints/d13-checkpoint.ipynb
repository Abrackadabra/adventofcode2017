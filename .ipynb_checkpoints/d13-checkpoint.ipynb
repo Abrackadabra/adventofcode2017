{
 "cells": [
  {
   "cell_type": "code",
   "execution_count": 1,
   "metadata": {},
   "outputs": [
    {
     "name": "stdout",
     "output_type": "stream",
     "text": [
      "Populating the interactive namespace from numpy and matplotlib\n"
     ]
    }
   ],
   "source": [
    "%pylab inline"
   ]
  },
  {
   "cell_type": "code",
   "execution_count": 2,
   "metadata": {},
   "outputs": [],
   "source": [
    "import requests\n",
    "\n",
    "cookies = {\n",
    "    'session': '53616c7465645f5f465a94508e1037cf931dedaf44e298b1be500ec71305ff01432a6584b1fe922ea5bab725d96f17b1'\n",
    "}\n",
    "\n",
    "url = 'http://adventofcode.com/2017/day/13/input'\n",
    "\n",
    "r = requests.get(url, cookies=cookies)\n",
    "\n",
    "lines = [i.strip() for i in r.text.split('\\n')][:-1]"
   ]
  },
  {
   "cell_type": "code",
   "execution_count": 3,
   "metadata": {},
   "outputs": [
    {
     "data": {
      "text/plain": [
       "['0: 4',\n",
       " '1: 2',\n",
       " '2: 3',\n",
       " '4: 4',\n",
       " '6: 6',\n",
       " '8: 5',\n",
       " '10: 6',\n",
       " '12: 6',\n",
       " '14: 6',\n",
       " '16: 8',\n",
       " '18: 8',\n",
       " '20: 9',\n",
       " '22: 12',\n",
       " '24: 8',\n",
       " '26: 8',\n",
       " '28: 8',\n",
       " '30: 12',\n",
       " '32: 12',\n",
       " '34: 8',\n",
       " '36: 12',\n",
       " '38: 10',\n",
       " '40: 12',\n",
       " '42: 12',\n",
       " '44: 10',\n",
       " '46: 12',\n",
       " '48: 14',\n",
       " '50: 12',\n",
       " '52: 14',\n",
       " '54: 14',\n",
       " '56: 12',\n",
       " '58: 14',\n",
       " '60: 12',\n",
       " '62: 14',\n",
       " '64: 18',\n",
       " '66: 14',\n",
       " '68: 14',\n",
       " '72: 14',\n",
       " '76: 14',\n",
       " '82: 14',\n",
       " '86: 14',\n",
       " '88: 18',\n",
       " '90: 14',\n",
       " '92: 17']"
      ]
     },
     "execution_count": 3,
     "metadata": {},
     "output_type": "execute_result"
    }
   ],
   "source": [
    "lines"
   ]
  },
  {
   "cell_type": "code",
   "execution_count": 4,
   "metadata": {},
   "outputs": [
    {
     "data": {
      "text/plain": [
       "{0: 4,\n",
       " 1: 2,\n",
       " 2: 3,\n",
       " 4: 4,\n",
       " 6: 6,\n",
       " 8: 5,\n",
       " 10: 6,\n",
       " 12: 6,\n",
       " 14: 6,\n",
       " 16: 8,\n",
       " 18: 8,\n",
       " 20: 9,\n",
       " 22: 12,\n",
       " 24: 8,\n",
       " 26: 8,\n",
       " 28: 8,\n",
       " 30: 12,\n",
       " 32: 12,\n",
       " 34: 8,\n",
       " 36: 12,\n",
       " 38: 10,\n",
       " 40: 12,\n",
       " 42: 12,\n",
       " 44: 10,\n",
       " 46: 12,\n",
       " 48: 14,\n",
       " 50: 12,\n",
       " 52: 14,\n",
       " 54: 14,\n",
       " 56: 12,\n",
       " 58: 14,\n",
       " 60: 12,\n",
       " 62: 14,\n",
       " 64: 18,\n",
       " 66: 14,\n",
       " 68: 14,\n",
       " 72: 14,\n",
       " 76: 14,\n",
       " 82: 14,\n",
       " 86: 14,\n",
       " 88: 18,\n",
       " 90: 14,\n",
       " 92: 17}"
      ]
     },
     "execution_count": 4,
     "metadata": {},
     "output_type": "execute_result"
    }
   ],
   "source": [
    "d = {}\n",
    "for line in lines:\n",
    "    a, b = list(map(int, line.split(': ')))\n",
    "    d[a] = b\n",
    "d"
   ]
  },
  {
   "cell_type": "code",
   "execution_count": 47,
   "metadata": {},
   "outputs": [],
   "source": [
    "d = {}\n",
    "d[0] = 3\n",
    "d[1] = 2\n",
    "d[4] = 4\n",
    "d[6] = 4"
   ]
  },
  {
   "cell_type": "code",
   "execution_count": 34,
   "metadata": {},
   "outputs": [
    {
     "name": "stdout",
     "output_type": "stream",
     "text": [
      "3840052\n"
     ]
    }
   ],
   "source": [
    "dd = {i: j * 2 - 2 for i, j in d.items()}\n",
    "\n",
    "for offs in range(100000000):\n",
    "    t = 0\n",
    "    for i in dd:\n",
    "        if (i + offs) % dd[i] == 0:\n",
    "            break\n",
    "    else:\n",
    "        print(offs)\n",
    "        break\n",
    "# t"
   ]
  },
  {
   "cell_type": "code",
   "execution_count": 5,
   "metadata": {},
   "outputs": [],
   "source": [
    "import z3"
   ]
  },
  {
   "cell_type": "code",
   "execution_count": 6,
   "metadata": {},
   "outputs": [],
   "source": [
    "offs = z3.Int('offs')"
   ]
  },
  {
   "cell_type": "code",
   "execution_count": 7,
   "metadata": {},
   "outputs": [],
   "source": [
    "dd = {i: j * 2 - 2 for i, j in d.items()}\n",
    "\n",
    "conds = [offs > 0]\n",
    "\n",
    "for i, j in dd.items():\n",
    "    conds.append((i + offs) % j != 0)"
   ]
  },
  {
   "cell_type": "code",
   "execution_count": 8,
   "metadata": {},
   "outputs": [
    {
     "data": {
      "text/plain": [
       "[offs > 0,\n",
       " (0 + offs)%6 != 0,\n",
       " (1 + offs)%2 != 0,\n",
       " (2 + offs)%4 != 0,\n",
       " (4 + offs)%6 != 0,\n",
       " (6 + offs)%10 != 0,\n",
       " (8 + offs)%8 != 0,\n",
       " (10 + offs)%10 != 0,\n",
       " (12 + offs)%10 != 0,\n",
       " (14 + offs)%10 != 0,\n",
       " (16 + offs)%14 != 0,\n",
       " (18 + offs)%14 != 0,\n",
       " (20 + offs)%16 != 0,\n",
       " (22 + offs)%22 != 0,\n",
       " (24 + offs)%14 != 0,\n",
       " (26 + offs)%14 != 0,\n",
       " (28 + offs)%14 != 0,\n",
       " (30 + offs)%22 != 0,\n",
       " (32 + offs)%22 != 0,\n",
       " (34 + offs)%14 != 0,\n",
       " (36 + offs)%22 != 0,\n",
       " (38 + offs)%18 != 0,\n",
       " (40 + offs)%22 != 0,\n",
       " (42 + offs)%22 != 0,\n",
       " (44 + offs)%18 != 0,\n",
       " (46 + offs)%22 != 0,\n",
       " (48 + offs)%26 != 0,\n",
       " (50 + offs)%22 != 0,\n",
       " (52 + offs)%26 != 0,\n",
       " (54 + offs)%26 != 0,\n",
       " (56 + offs)%22 != 0,\n",
       " (58 + offs)%26 != 0,\n",
       " (60 + offs)%22 != 0,\n",
       " (62 + offs)%26 != 0,\n",
       " (64 + offs)%34 != 0,\n",
       " (66 + offs)%26 != 0,\n",
       " (68 + offs)%26 != 0,\n",
       " (72 + offs)%26 != 0,\n",
       " (76 + offs)%26 != 0,\n",
       " (82 + offs)%26 != 0,\n",
       " (86 + offs)%26 != 0,\n",
       " (88 + offs)%34 != 0,\n",
       " (90 + offs)%26 != 0,\n",
       " (92 + offs)%32 != 0]"
      ]
     },
     "execution_count": 8,
     "metadata": {},
     "output_type": "execute_result"
    }
   ],
   "source": [
    "conds"
   ]
  },
  {
   "cell_type": "code",
   "execution_count": null,
   "metadata": {},
   "outputs": [],
   "source": [
    "z3.solve(offs < 3840053, *conds)"
   ]
  }
 ],
 "metadata": {
  "kernelspec": {
   "display_name": "Python 3",
   "language": "python",
   "name": "python3"
  },
  "language_info": {
   "codemirror_mode": {
    "name": "ipython",
    "version": 3
   },
   "file_extension": ".py",
   "mimetype": "text/x-python",
   "name": "python",
   "nbconvert_exporter": "python",
   "pygments_lexer": "ipython3",
   "version": "3.6.3"
  }
 },
 "nbformat": 4,
 "nbformat_minor": 1
}
