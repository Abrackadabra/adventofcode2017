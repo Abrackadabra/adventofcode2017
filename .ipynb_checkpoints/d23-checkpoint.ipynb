{
 "cells": [
  {
   "cell_type": "code",
   "execution_count": 1,
   "metadata": {},
   "outputs": [
    {
     "name": "stdout",
     "output_type": "stream",
     "text": [
      "Populating the interactive namespace from numpy and matplotlib\n"
     ]
    }
   ],
   "source": [
    "%pylab inline"
   ]
  },
  {
   "cell_type": "code",
   "execution_count": 2,
   "metadata": {},
   "outputs": [],
   "source": [
    "import subprocess\n",
    "import re\n",
    "import itertools\n",
    "import functools\n",
    "import collections\n",
    "import tqdm"
   ]
  },
  {
   "cell_type": "code",
   "execution_count": 3,
   "metadata": {},
   "outputs": [
    {
     "name": "stdout",
     "output_type": "stream",
     "text": [
      "32 lines\n",
      "set b 99\n",
      "set c b\n",
      "jnz a 2\n",
      "jnz 1 5\n",
      "mul b 100\n"
     ]
    }
   ],
   "source": [
    "import requests\n",
    "\n",
    "day_num = 23\n",
    "\n",
    "cookies = {\n",
    "    'session': '53616c7465645f5f465a94508e1037cf931dedaf44e298b1be500ec71305ff01432a6584b1fe922ea5bab725d96f17b1'\n",
    "}\n",
    "\n",
    "url = f'http://adventofcode.com/2017/day/{day_num}/input'\n",
    "\n",
    "r = requests.get(url, cookies=cookies)\n",
    "\n",
    "lines = [i.strip() for i in r.text.split('\\n')][:-1]\n",
    "\n",
    "print(f'{len(lines)} lines')\n",
    "\n",
    "for i in lines[:5]:\n",
    "    print(i[:10])"
   ]
  },
  {
   "cell_type": "code",
   "execution_count": null,
   "metadata": {},
   "outputs": [],
   "source": [
    "\n",
    "\n",
    "def what(s):\n",
    "    try:\n",
    "        return int(s)\n",
    "    except:\n",
    "        return values[s]\n",
    "\n",
    "def execute(command):\n",
    "    global values\n",
    "    global pos\n",
    "    global last_freq\n",
    "    \n",
    "    parts = command.split()\n",
    "    \n",
    "    cmd = parts[0]\n",
    "    a = parts[1]\n",
    "    if len(parts) >= 3:\n",
    "        b = parts[2]\n",
    "    else:\n",
    "        b = '0'\n",
    "    \n",
    "    a_v = what(a)\n",
    "    b_v = what(b)\n",
    "    \n",
    "    print(f'{pos}: {cmd} {a}={a_v} {b}={b_v}', flush=True)\n",
    "    \n",
    "    if cmd == 'set':\n",
    "        values[a] = b_v\n",
    "    elif cmd == 'add':\n",
    "        values[a] += b_v\n",
    "    elif cmd == 'mul':\n",
    "        values[a] *= b_v\n",
    "    elif cmd == 'mod':\n",
    "        values[a] %= b_v\n",
    "    elif cmd == 'jgz':\n",
    "        if a_v > 0:\n",
    "            pos += b_v - 1\n",
    "    elif cmd == 'snd':\n",
    "        last_freq = a_v\n",
    "    elif cmd == 'rcv':\n",
    "        if a_v > 0:\n",
    "            print(last_freq)\n",
    "            return True\n",
    "            \n",
    "    pos += 1"
   ]
  }
 ],
 "metadata": {
  "kernelspec": {
   "display_name": "Python 3",
   "language": "python",
   "name": "python3"
  },
  "language_info": {
   "codemirror_mode": {
    "name": "ipython",
    "version": 3
   },
   "file_extension": ".py",
   "mimetype": "text/x-python",
   "name": "python",
   "nbconvert_exporter": "python",
   "pygments_lexer": "ipython3",
   "version": "3.6.3"
  }
 },
 "nbformat": 4,
 "nbformat_minor": 1
}
