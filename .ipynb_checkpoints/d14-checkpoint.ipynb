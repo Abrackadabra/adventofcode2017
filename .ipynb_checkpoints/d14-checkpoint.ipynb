{
 "cells": [
  {
   "cell_type": "code",
   "execution_count": 1,
   "metadata": {},
   "outputs": [
    {
     "name": "stdout",
     "output_type": "stream",
     "text": [
      "Populating the interactive namespace from numpy and matplotlib\n"
     ]
    }
   ],
   "source": [
    "%pylab inline"
   ]
  },
  {
   "cell_type": "code",
   "execution_count": 2,
   "metadata": {},
   "outputs": [],
   "source": [
    "import requests\n",
    "\n",
    "cookies = {\n",
    "    'session': '53616c7465645f5f465a94508e1037cf931dedaf44e298b1be500ec71305ff01432a6584b1fe922ea5bab725d96f17b1'\n",
    "}\n",
    "\n",
    "url = 'http://adventofcode.com/2017/day/14/input'\n",
    "\n",
    "r = requests.get(url, cookies=cookies)\n",
    "\n",
    "lines = [i.strip() for i in r.text.split('\\n')][:-1]"
   ]
  },
  {
   "cell_type": "code",
   "execution_count": 31,
   "metadata": {},
   "outputs": [],
   "source": [
    "def superhash(s):\n",
    "    lengths = list(map(ord, s)) + [17, 31, 73, 47, 23]\n",
    "#     lengths = list(map(ord, s))\n",
    "    a = arange(256)\n",
    "    \n",
    "    n = len(a)\n",
    "    \n",
    "    pos = 0\n",
    "    skip = 0\n",
    "    \n",
    "    for k in range(64):\n",
    "#     for k in range(1):\n",
    "        for l in lengths:\n",
    "            for i in range(l // 2):\n",
    "                p1 = (pos + i) % n\n",
    "                p2 = (pos + l - 1 - i + n) % n\n",
    "                a[p1], a[p2] = a[p2], a[p1]\n",
    "            pos = (pos + l + skip) % n\n",
    "\n",
    "            skip += 1\n",
    "    \n",
    "    xors = zeros(16, dtype=int)\n",
    "    for i in range(256):\n",
    "        xors[i // 16] ^= a[i]\n",
    "    \n",
    "    return xors"
   ]
  },
  {
   "cell_type": "code",
   "execution_count": null,
   "metadata": {},
   "outputs": [],
   "source": [
    "str.replace"
   ]
  },
  {
   "cell_type": "code",
   "execution_count": 34,
   "metadata": {},
   "outputs": [
    {
     "data": {
      "text/plain": [
       "'33efeb34ea91902bb2f59c9920caa6cd'"
      ]
     },
     "execution_count": 34,
     "metadata": {},
     "output_type": "execute_result"
    }
   ],
   "source": [
    "''.join(map(lambda x: f'{x:02x}', superhash('AoC 2017')))"
   ]
  },
  {
   "cell_type": "code",
   "execution_count": null,
   "metadata": {},
   "outputs": [],
   "source": []
  },
  {
   "cell_type": "code",
   "execution_count": null,
   "metadata": {},
   "outputs": [],
   "source": []
  },
  {
   "cell_type": "code",
   "execution_count": 64,
   "metadata": {},
   "outputs": [
    {
     "data": {
      "text/plain": [
       "8190"
      ]
     },
     "execution_count": 64,
     "metadata": {},
     "output_type": "execute_result"
    }
   ],
   "source": [
    "# base_str = 'flqrgnkx'\n",
    "base_str = 'ffayrhll'\n",
    "\n",
    "c = 0\n",
    "\n",
    "A = zeros((128, 128), dtype=bool)\n",
    "\n",
    "for row in range(128):\n",
    "    row_str = f'{base_str}-{row}'\n",
    "    d = ''.join([f'{i:08b}' for i in superhash(row_str)])\n",
    "    d = d.replace('0', '.').replace('1', '#')\n",
    "    c += d.count('#')\n",
    "    \n",
    "    for j in range(128):\n",
    "        A[row, j] = d[j] == '#'\n",
    "c"
   ]
  },
  {
   "cell_type": "code",
   "execution_count": 48,
   "metadata": {},
   "outputs": [],
   "source": [
    "dirs = [\n",
    "    [0, 1],\n",
    "    [1, 0],\n",
    "    [0, -1],\n",
    "    [-1, 0],\n",
    "]\n",
    "dirs = [array(i) for i in dirs]"
   ]
  },
  {
   "cell_type": "code",
   "execution_count": 65,
   "metadata": {},
   "outputs": [
    {
     "data": {
      "text/plain": [
       "1134"
      ]
     },
     "execution_count": 65,
     "metadata": {},
     "output_type": "execute_result"
    }
   ],
   "source": [
    "B = array(A)\n",
    "\n",
    "def dfs(x, A):\n",
    "    if not A[tuple(x)]:\n",
    "        return\n",
    "    A[tuple(x)] = False\n",
    "    for dir in dirs:\n",
    "        xx = x + dir\n",
    "        if min(xx) < 0 or max(xx) >= 128:\n",
    "            continue\n",
    "        if A[tuple(xx)]:\n",
    "            dfs(xx, A)\n",
    "\n",
    "c = 0\n",
    "for i in range(128):\n",
    "    for j in range(128):\n",
    "        if B[i, j]:\n",
    "            dfs(array([i, j]), B)\n",
    "            c += 1\n",
    "\n",
    "c"
   ]
  },
  {
   "cell_type": "code",
   "execution_count": null,
   "metadata": {},
   "outputs": [],
   "source": []
  }
 ],
 "metadata": {
  "kernelspec": {
   "display_name": "Python 3",
   "language": "python",
   "name": "python3"
  },
  "language_info": {
   "codemirror_mode": {
    "name": "ipython",
    "version": 3
   },
   "file_extension": ".py",
   "mimetype": "text/x-python",
   "name": "python",
   "nbconvert_exporter": "python",
   "pygments_lexer": "ipython3",
   "version": "3.6.3"
  }
 },
 "nbformat": 4,
 "nbformat_minor": 1
}
