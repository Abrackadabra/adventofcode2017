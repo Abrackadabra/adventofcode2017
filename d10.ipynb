{
 "cells": [
  {
   "cell_type": "code",
   "execution_count": 1,
   "metadata": {},
   "outputs": [
    {
     "name": "stdout",
     "output_type": "stream",
     "text": [
      "Populating the interactive namespace from numpy and matplotlib\n"
     ]
    }
   ],
   "source": [
    "%pylab inline"
   ]
  },
  {
   "cell_type": "code",
   "execution_count": 3,
   "metadata": {},
   "outputs": [],
   "source": [
    "import requests\n",
    "\n",
    "cookies = {\n",
    "    'session': '53616c7465645f5f465a94508e1037cf931dedaf44e298b1be500ec71305ff01432a6584b1fe922ea5bab725d96f17b1'\n",
    "}\n",
    "\n",
    "url = 'http://adventofcode.com/2017/day/10/input'\n",
    "\n",
    "r = requests.get(url, cookies=cookies)\n",
    "\n",
    "lines = [i.strip() for i in r.text.split('\\n')][:-1]"
   ]
  },
  {
   "cell_type": "code",
   "execution_count": 5,
   "metadata": {},
   "outputs": [],
   "source": [
    "s = lines[0]"
   ]
  },
  {
   "cell_type": "code",
   "execution_count": null,
   "metadata": {},
   "outputs": [],
   "source": [
    "arange(256, dtype=int)"
   ]
  },
  {
   "cell_type": "code",
   "execution_count": 8,
   "metadata": {},
   "outputs": [
    {
     "data": {
      "text/plain": [
       "array([3, 4, 2, 1, 0])"
      ]
     },
     "execution_count": 8,
     "metadata": {},
     "output_type": "execute_result"
    }
   ],
   "source": [
    "def process(a, lengths):\n",
    "    n = len(a)\n",
    "    \n",
    "    pos = 0\n",
    "    skip = 0\n",
    "    \n",
    "    for l in lengths:\n",
    "        for i in range(l // 2):\n",
    "            p1 = (pos + i) % n\n",
    "            p2 = (pos + l - 1 - i + n) % n\n",
    "            a[p1], a[p2] = a[p2], a[p1]\n",
    "        pos = (pos + l + skip) % n\n",
    "        \n",
    "        skip += 1\n",
    "    \n",
    "    return a\n",
    "        \n",
    "process(arange(5), [3, 4, 1, 5])"
   ]
  },
  {
   "cell_type": "code",
   "execution_count": 11,
   "metadata": {},
   "outputs": [],
   "source": [
    "lengths = list(map(int, s.split(',')))"
   ]
  },
  {
   "cell_type": "code",
   "execution_count": 12,
   "metadata": {},
   "outputs": [
    {
     "data": {
      "text/plain": [
       "array([ 44, 158, 157, 156, 155, 154, 153, 152, 251, 252, 253, 254, 255,\n",
       "        30,  29,  28,  27,  26,  25,  24,  23,  22,  21,  20,  19,  18,\n",
       "        17,  16,  15,  14,  13,  12,  11,  10,   9,   8,   7,   6,   5,\n",
       "         4,   3,   2,   1,   0,  32,  31,  33, 118, 117, 116, 115, 114,\n",
       "       113, 112, 111, 110, 109, 108, 107, 106, 105, 104, 103, 102, 101,\n",
       "       100,  99,  98,  97,  96, 141, 142, 143, 144, 145, 146, 147, 148,\n",
       "       149, 150, 151, 250, 249, 248, 215, 216, 217, 218, 219, 220, 221,\n",
       "       222, 223, 224, 225, 226, 227, 228, 229, 230, 231, 232, 233, 234,\n",
       "       235, 236, 237, 238, 239, 240, 241, 242, 243, 244, 245, 246, 247,\n",
       "       214, 213, 212, 211, 210, 209,  90,  89,  88,  87,  86,  51,  52,\n",
       "        53,  54,  55,  56,  57,  58,  59,  60,  61,  62,  63,  64,  65,\n",
       "        66,  67,  68,  69,  70,  71,  72,  73,  74,  75,  76,  77,  78,\n",
       "        79,  80,  81,  82,  83,  84,  85,  50,  49,  48,  47,  46,  45,\n",
       "       159, 160, 161, 162, 163, 164, 165, 166, 167, 168, 169, 170, 171,\n",
       "       172, 173, 174, 176, 175, 177, 178, 179, 180, 181, 182, 183, 184,\n",
       "       185, 186,  95, 128, 129, 130, 131, 132, 133, 134, 135, 136, 137,\n",
       "       138, 139, 140, 127, 126, 125, 205, 206, 207, 208,  91,  92,  93,\n",
       "        94, 187, 188, 189, 190, 191, 192, 193, 194, 195, 196, 197, 198,\n",
       "       199, 200, 201, 202, 203, 204, 124, 123, 122, 121, 120, 119,  34,\n",
       "        35,  36,  37,  38,  39,  40,  41,  42,  43])"
      ]
     },
     "execution_count": 12,
     "metadata": {},
     "output_type": "execute_result"
    }
   ],
   "source": [
    "process(arange(256), lengths)"
   ]
  },
  {
   "cell_type": "code",
   "execution_count": 13,
   "metadata": {},
   "outputs": [
    {
     "data": {
      "text/plain": [
       "6952"
      ]
     },
     "execution_count": 13,
     "metadata": {},
     "output_type": "execute_result"
    }
   ],
   "source": [
    "44 * 158"
   ]
  },
  {
   "cell_type": "code",
   "execution_count": 16,
   "metadata": {},
   "outputs": [],
   "source": [
    "def superhash(s):\n",
    "    lengths = list(map(ord, s)) + [17, 31, 73, 47, 23]\n",
    "    a = arange(256)\n",
    "    \n",
    "    n = len(a)\n",
    "    \n",
    "    pos = 0\n",
    "    skip = 0\n",
    "    \n",
    "    for k in range(64):\n",
    "        for l in lengths:\n",
    "            for i in range(l // 2):\n",
    "                p1 = (pos + i) % n\n",
    "                p2 = (pos + l - 1 - i + n) % n\n",
    "                a[p1], a[p2] = a[p2], a[p1]\n",
    "            pos = (pos + l + skip) % n\n",
    "\n",
    "            skip += 1\n",
    "    \n",
    "    xors = zeros(16, dtype=int)\n",
    "    for i in range(256):\n",
    "        xors[i // 16] ^= a[i]\n",
    "    \n",
    "    return ''.join(list(map(lambda x: f'{x:02x}', xors)))"
   ]
  },
  {
   "cell_type": "code",
   "execution_count": 17,
   "metadata": {},
   "outputs": [
    {
     "data": {
      "text/plain": [
       "'a2582a3a0e66e6e86e3812dcb672a272'"
      ]
     },
     "execution_count": 17,
     "metadata": {},
     "output_type": "execute_result"
    }
   ],
   "source": [
    "superhash('')"
   ]
  },
  {
   "cell_type": "code",
   "execution_count": 18,
   "metadata": {},
   "outputs": [
    {
     "data": {
      "text/plain": [
       "'33efeb34ea91902bb2f59c9920caa6cd'"
      ]
     },
     "execution_count": 18,
     "metadata": {},
     "output_type": "execute_result"
    }
   ],
   "source": [
    "superhash('AoC 2017')"
   ]
  },
  {
   "cell_type": "code",
   "execution_count": 20,
   "metadata": {},
   "outputs": [
    {
     "data": {
      "text/plain": [
       "'28e7c4360520718a5dc811d3942cf1fd'"
      ]
     },
     "execution_count": 20,
     "metadata": {},
     "output_type": "execute_result"
    }
   ],
   "source": [
    "superhash(s)"
   ]
  }
 ],
 "metadata": {
  "kernelspec": {
   "display_name": "Python 3",
   "language": "python",
   "name": "python3"
  },
  "language_info": {
   "codemirror_mode": {
    "name": "ipython",
    "version": 3
   },
   "file_extension": ".py",
   "mimetype": "text/x-python",
   "name": "python",
   "nbconvert_exporter": "python",
   "pygments_lexer": "ipython3",
   "version": "3.6.3"
  }
 },
 "nbformat": 4,
 "nbformat_minor": 1
}
