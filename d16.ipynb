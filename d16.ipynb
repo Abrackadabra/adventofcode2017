{
 "cells": [
  {
   "cell_type": "code",
   "execution_count": 1,
   "metadata": {},
   "outputs": [
    {
     "name": "stdout",
     "output_type": "stream",
     "text": [
      "Populating the interactive namespace from numpy and matplotlib\n"
     ]
    }
   ],
   "source": [
    "%pylab inline"
   ]
  },
  {
   "cell_type": "code",
   "execution_count": 2,
   "metadata": {},
   "outputs": [],
   "source": [
    "import requests\n",
    "\n",
    "day_num = 16\n",
    "\n",
    "cookies = {\n",
    "    'session': '53616c7465645f5f465a94508e1037cf931dedaf44e298b1be500ec71305ff01432a6584b1fe922ea5bab725d96f17b1'\n",
    "}\n",
    "\n",
    "url = f'http://adventofcode.com/2017/day/{day_num}/input'\n",
    "\n",
    "r = requests.get(url, cookies=cookies)\n",
    "\n",
    "lines = [i.strip() for i in r.text.split('\\n')][:-1]"
   ]
  },
  {
   "cell_type": "code",
   "execution_count": 80,
   "metadata": {},
   "outputs": [],
   "source": [
    "import subprocess\n",
    "import re\n",
    "import itertools\n",
    "import functools\n",
    "import collections\n",
    "import tqdm"
   ]
  },
  {
   "cell_type": "code",
   "execution_count": 101,
   "metadata": {},
   "outputs": [
    {
     "name": "stdout",
     "output_type": "stream",
     "text": [
      "b''\n",
      "b''\n",
      "b''\n",
      "b''\n",
      "b''\n",
      "b''\n",
      "b''\n",
      "b''\n"
     ]
    }
   ],
   "source": [
    "for i in range(18, 26):\n",
    "    print(subprocess.check_output(['cp', 'd17.ipynb', f'd{i}.ipynb']))"
   ]
  },
  {
   "cell_type": "code",
   "execution_count": 102,
   "metadata": {},
   "outputs": [
    {
     "name": "stdout",
     "output_type": "stream",
     "text": [
      "b''\n",
      "b''\n",
      "b''\n",
      "b''\n",
      "b''\n",
      "b''\n",
      "b''\n",
      "b''\n",
      "b''\n"
     ]
    }
   ],
   "source": [
    "#perl -0p -i -e 's/day_num = 16/day_num = 17/g' d17.ipynb\n",
    "for i in range(17, 26):\n",
    "    print(subprocess.check_output(['perl', '-0p', '-i', '-e', f's/day_num = \\d+/day_num = {i}/g', f'd{i}.ipynb']))"
   ]
  },
  {
   "cell_type": "code",
   "execution_count": null,
   "metadata": {},
   "outputs": [],
   "source": []
  },
  {
   "cell_type": "code",
   "execution_count": 13,
   "metadata": {},
   "outputs": [
    {
     "data": {
      "text/plain": [
       "['x12/14', 's11', 'x10/4', 's7', 'pb/o']"
      ]
     },
     "execution_count": 13,
     "metadata": {},
     "output_type": "execute_result"
    }
   ],
   "source": [
    "commands = lines[0].split(',')\n",
    "commands[:5]"
   ]
  },
  {
   "cell_type": "code",
   "execution_count": 22,
   "metadata": {},
   "outputs": [
    {
     "data": {
      "text/plain": [
       "array(['n', 'o', 'p', 'a', 'b', 'c', 'd', 'e', 'f', 'g', 'h', 'i', 'j',\n",
       "       'k', 'l', 'm'],\n",
       "      dtype='<U1')"
      ]
     },
     "execution_count": 22,
     "metadata": {},
     "output_type": "execute_result"
    }
   ],
   "source": [
    "a = [chr(i) for i in range(ord('a'), ord('p') + 1)]\n",
    "roll(a, 3)"
   ]
  },
  {
   "cell_type": "code",
   "execution_count": 33,
   "metadata": {},
   "outputs": [
    {
     "data": {
      "text/plain": [
       "2"
      ]
     },
     "execution_count": 33,
     "metadata": {},
     "output_type": "execute_result"
    }
   ],
   "source": [
    "where(a == 'c')[0][0]"
   ]
  },
  {
   "cell_type": "code",
   "execution_count": 35,
   "metadata": {},
   "outputs": [
    {
     "data": {
      "text/plain": [
       "'baedc'"
      ]
     },
     "execution_count": 35,
     "metadata": {},
     "output_type": "execute_result"
    }
   ],
   "source": [
    "a = array([chr(i) for i in range(ord('a'), ord('e') + 1)])\n",
    "\n",
    "for command in 's1,x3/4,pe/b'.split(','):\n",
    "    match = re.findall(r'^(.)((.*?)/(.*))?(.*)', command)[0]\n",
    "    letter, _, arg1, arg2, arg3 = match\n",
    "    \n",
    "    if letter == 's':\n",
    "        a = roll(a, int(arg3))\n",
    "    elif letter == 'x':\n",
    "        pos1 = int(arg1)\n",
    "        pos2 = int(arg2)\n",
    "        a[pos1], a[pos2] = a[pos2], a[pos1]\n",
    "    elif letter == 'p':\n",
    "        pos1 = where(a == arg1)[0][0]\n",
    "        pos2 = where(a == arg2)[0][0]\n",
    "        a[pos1], a[pos2] = a[pos2], a[pos1]\n",
    "        \n",
    "''.join(a)"
   ]
  },
  {
   "cell_type": "code",
   "execution_count": 65,
   "metadata": {},
   "outputs": [
    {
     "data": {
      "text/plain": [
       "'namdgkbhifpceloj'"
      ]
     },
     "execution_count": 65,
     "metadata": {},
     "output_type": "execute_result"
    }
   ],
   "source": [
    "a = array([chr(i) for i in range(ord('a'), ord('p') + 1)])\n",
    "\n",
    "for command in commands:\n",
    "    match = re.findall(r'^(.)((.*?)/(.*))?(.*)', command)[0]\n",
    "    letter, _, arg1, arg2, arg3 = match\n",
    "    \n",
    "    if letter == 's':\n",
    "        a = roll(a, int(arg3))\n",
    "    elif letter == 'x':\n",
    "        pos1 = int(arg1)\n",
    "        pos2 = int(arg2)\n",
    "        a[pos1], a[pos2] = a[pos2], a[pos1]\n",
    "    elif letter == 'p':\n",
    "        pos1 = where(a == arg1)[0][0]\n",
    "        pos2 = where(a == arg2)[0][0]\n",
    "        a[pos1], a[pos2] = a[pos2], a[pos1]\n",
    "        \n",
    "''.join(a)"
   ]
  },
  {
   "cell_type": "code",
   "execution_count": 76,
   "metadata": {},
   "outputs": [],
   "source": [
    "def apply(a):\n",
    "    a = array(a)\n",
    "    for command in commands:\n",
    "        match = re.findall(r'^(.)((.*?)/(.*))?(.*)', command)[0]\n",
    "        letter, _, arg1, arg2, arg3 = match\n",
    "\n",
    "        if letter == 's':\n",
    "            a = roll(a, int(arg3))\n",
    "        elif letter == 'x':\n",
    "            pos1 = int(arg1)\n",
    "            pos2 = int(arg2)\n",
    "            a[pos1], a[pos2] = a[pos2], a[pos1]\n",
    "        elif letter == 'p':\n",
    "            pos1 = where(a == arg1)[0][0]\n",
    "            pos2 = where(a == arg2)[0][0]\n",
    "            a[pos1], a[pos2] = a[pos2], a[pos1]\n",
    "    return a"
   ]
  },
  {
   "cell_type": "code",
   "execution_count": 77,
   "metadata": {},
   "outputs": [],
   "source": [
    "init = array([chr(i) for i in range(ord('a'), ord('p') + 1)])"
   ]
  },
  {
   "cell_type": "code",
   "execution_count": 91,
   "metadata": {},
   "outputs": [
    {
     "ename": "ValueError",
     "evalue": "The truth value of an array with more than one element is ambiguous. Use a.any() or a.all()",
     "output_type": "error",
     "traceback": [
      "\u001b[0;31m---------------------------------------------------------------------------\u001b[0m",
      "\u001b[0;31mValueError\u001b[0m                                Traceback (most recent call last)",
      "\u001b[0;32m<ipython-input-91-cbfce3477202>\u001b[0m in \u001b[0;36m<module>\u001b[0;34m()\u001b[0m\n\u001b[0;32m----> 1\u001b[0;31m \u001b[0mapply\u001b[0m\u001b[0;34m(\u001b[0m\u001b[0mh\u001b[0m\u001b[0;34m[\u001b[0m\u001b[0;34m-\u001b[0m\u001b[0;36m1\u001b[0m\u001b[0;34m]\u001b[0m\u001b[0;34m)\u001b[0m \u001b[0;32min\u001b[0m \u001b[0mh\u001b[0m\u001b[0;34m\u001b[0m\u001b[0m\n\u001b[0m",
      "\u001b[0;31mValueError\u001b[0m: The truth value of an array with more than one element is ambiguous. Use a.any() or a.all()"
     ]
    }
   ],
   "source": [
    "apply(h[-1]) in h"
   ]
  },
  {
   "cell_type": "code",
   "execution_count": 92,
   "metadata": {},
   "outputs": [
    {
     "name": "stdout",
     "output_type": "stream",
     "text": [
      "!!! abcdefghijklmnop\n",
      "!!! namdgkbhifpceloj\n",
      "!!! jlfmgkchaionepdb\n",
      "!!! aofblkcedinhmjpg\n",
      "!!! ihmbefcndojpalkg\n",
      "!!! iklmepbcdfojagnh\n",
      "!!! kcloednpafihmgjb\n",
      "!!! admolnejpfighckb\n",
      "!!! aekmnjpcfodghlib\n",
      "!!! afkcbdjgnpoemlih\n",
      "!!! kbmcpiegjaohdlfn\n",
      "!!! paemjigbfnohdckl\n",
      "!!! olefbagcijdhmnkp\n",
      "!!! nomfgdlciapebhkj\n",
      "!!! jhamgdecoiknbpfl\n",
      "!!! okalhdebfincmjpg\n",
      "!!! icmlbaenfkjpohdg\n",
      "!!! idhmbplefakjognc\n",
      "!!! dehkbfnpoaicmgjl\n",
      "!!! ofmkhnbjpaigcedl\n",
      "!!! obdmnjpeakfgchil\n",
      "!!! oadelfjgnpkbmhic\n",
      "!!! dlmepibgjokcfhan\n",
      "!!! pobmjiglankcfedh\n",
      "!!! khbalogeijfcmndp\n",
      "!!! nkmagfheiopblcdj\n",
      "!!! jcomgfbekidnlpah\n",
      "!!! kdohcfblainemjpg\n",
      "!!! iemhlobnadjpkcfg\n",
      "!!! ifcmlphbaodjkgne\n",
      "!!! fbcdlanpkoiemgjh\n",
      "!!! kamdcnljpoigebfh\n",
      "!!! klfmnjpbodagecih\n",
      "!!! kofbhajgnpdlmcie\n",
      "!!! fhmbpilgjkdeacon\n",
      "!!! pklmjighondeabfc\n",
      "!!! dclohkgbijaemnfp\n",
      "!!! ndmogacbikplhefj\n",
      "!!! jekmgalbdifnhpoc\n",
      "!!! dfkcealhoinbmjpg\n",
      "!!! ibmchklnofjpdeag\n"
     ]
    }
   ],
   "source": [
    "h = [''.join(init)]\n",
    "last = init\n",
    "for i in range(100):\n",
    "    last = apply(last)\n",
    "    s = ''.join(last)\n",
    "    if s in h:\n",
    "        print('!!!', s)\n",
    "    h.append(s)"
   ]
  },
  {
   "cell_type": "code",
   "execution_count": 95,
   "metadata": {},
   "outputs": [
    {
     "data": {
      "text/plain": [
       "array([ 0, 60])"
      ]
     },
     "execution_count": 95,
     "metadata": {},
     "output_type": "execute_result"
    }
   ],
   "source": [
    "where(array(h) == h[0])[0]"
   ]
  },
  {
   "cell_type": "code",
   "execution_count": 96,
   "metadata": {},
   "outputs": [
    {
     "data": {
      "text/plain": [
       "'ibmchklnofjpdeag'"
      ]
     },
     "execution_count": 96,
     "metadata": {},
     "output_type": "execute_result"
    }
   ],
   "source": [
    "h[int(1e9) % 60]"
   ]
  },
  {
   "cell_type": "code",
   "execution_count": 83,
   "metadata": {},
   "outputs": [
    {
     "name": "stdout",
     "output_type": "stream",
     "text": [
      "abcdefghijklmnop\n",
      "namdgkbhifpceloj\n",
      "jlfmgkchaionepdb\n",
      "aofblkcedinhmjpg\n",
      "ihmbefcndojpalkg\n",
      "iklmepbcdfojagnh\n",
      "kcloednpafihmgjb\n",
      "admolnejpfighckb\n",
      "aekmnjpcfodghlib\n",
      "afkcbdjgnpoemlih\n",
      "kbmcpiegjaohdlfn\n",
      "paemjigbfnohdckl\n",
      "olefbagcijdhmnkp\n",
      "nomfgdlciapebhkj\n",
      "jhamgdecoiknbpfl\n",
      "okalhdebfincmjpg\n",
      "icmlbaenfkjpohdg\n",
      "idhmbplefakjognc\n",
      "dehkbfnpoaicmgjl\n",
      "ofmkhnbjpaigcedl\n",
      "obdmnjpeakfgchil\n",
      "oadelfjgnpkbmhic\n",
      "dlmepibgjokcfhan\n",
      "pobmjiglankcfedh\n",
      "khbalogeijfcmndp\n",
      "nkmagfheiopblcdj\n",
      "jcomgfbekidnlpah\n",
      "kdohcfblainemjpg\n",
      "iemhlobnadjpkcfg\n",
      "ifcmlphbaodjkgne\n",
      "fbcdlanpkoiemgjh\n",
      "kamdcnljpoigebfh\n",
      "klfmnjpbodagecih\n",
      "kofbhajgnpdlmcie\n",
      "fhmbpilgjkdeacon\n",
      "pklmjighondeabfc\n",
      "dclohkgbijaemnfp\n",
      "ndmogacbikplhefj\n",
      "jekmgalbdifnhpoc\n",
      "dfkcealhoinbmjpg\n",
      "ibmchklnofjpdeag\n",
      "iaemhpclokfjdgnb\n",
      "alefhonpdkibmgjc\n",
      "domfenhjpkigblac\n",
      "dhamnjplkfogbeic\n",
      "dkalcojgnpfhmeib\n",
      "acmlpihgjdfboekn\n",
      "pdhmjigcknfbolae\n",
      "fehkcdglijobmnap\n",
      "nfmkgoelidphcbaj\n",
      "jbdmgohlfiancpke\n",
      "fadebohckinlmjpg\n",
      "ilmecdhnkajpfbog\n",
      "iobmcpehkdajfgnl\n",
      "ohbacknpfdilmgje\n",
      "fkmabncjpdiglhoe\n",
      "fcomnjphdakglbie\n",
      "fdohekjgnpacmbil\n",
      "oemhpicgjfalkbdn\n",
      "pfcmjigednalkhob\n",
      "abcdefghijklmnop\n",
      "namdgkbhifpceloj\n",
      "jlfmgkchaionepdb\n",
      "aofblkcedinhmjpg\n",
      "ihmbefcndojpalkg\n",
      "iklmepbcdfojagnh\n",
      "kcloednpafihmgjb\n",
      "admolnejpfighckb\n",
      "aekmnjpcfodghlib\n",
      "afkcbdjgnpoemlih\n",
      "kbmcpiegjaohdlfn\n",
      "paemjigbfnohdckl\n",
      "olefbagcijdhmnkp\n",
      "nomfgdlciapebhkj\n",
      "jhamgdecoiknbpfl\n",
      "okalhdebfincmjpg\n",
      "icmlbaenfkjpohdg\n",
      "idhmbplefakjognc\n",
      "dehkbfnpoaicmgjl\n",
      "ofmkhnbjpaigcedl\n",
      "obdmnjpeakfgchil\n",
      "oadelfjgnpkbmhic\n",
      "dlmepibgjokcfhan\n",
      "pobmjiglankcfedh\n",
      "khbalogeijfcmndp\n",
      "nkmagfheiopblcdj\n",
      "jcomgfbekidnlpah\n",
      "kdohcfblainemjpg\n",
      "iemhlobnadjpkcfg\n",
      "ifcmlphbaodjkgne\n",
      "fbcdlanpkoiemgjh\n",
      "kamdcnljpoigebfh\n",
      "klfmnjpbodagecih\n",
      "kofbhajgnpdlmcie\n",
      "fhmbpilgjkdeacon\n",
      "pklmjighondeabfc\n",
      "dclohkgbijaemnfp\n",
      "ndmogacbikplhefj\n",
      "jekmgalbdifnhpoc\n",
      "dfkcealhoinbmjpg\n",
      "ibmchklnofjpdeag\n"
     ]
    }
   ],
   "source": [
    "for i in h:\n",
    "    print(''.join(i))"
   ]
  },
  {
   "cell_type": "code",
   "execution_count": null,
   "metadata": {},
   "outputs": [],
   "source": []
  },
  {
   "cell_type": "code",
   "execution_count": null,
   "metadata": {},
   "outputs": [],
   "source": []
  },
  {
   "cell_type": "code",
   "execution_count": 68,
   "metadata": {},
   "outputs": [
    {
     "data": {
      "text/plain": [
       "array(['a', 'b', 'c', 'd', 'e', 'f', 'g', 'h', 'i', 'j', 'k', 'l', 'm',\n",
       "       'n', 'o', 'p'],\n",
       "      dtype='<U1')"
      ]
     },
     "execution_count": 68,
     "metadata": {},
     "output_type": "execute_result"
    }
   ],
   "source": [
    "init"
   ]
  },
  {
   "cell_type": "code",
   "execution_count": 70,
   "metadata": {},
   "outputs": [
    {
     "data": {
      "text/plain": [
       "(array(['n', 'a', 'm', 'd', 'g', 'k', 'b', 'h', 'i', 'f', 'p', 'c', 'e',\n",
       "        'l', 'o', 'j'],\n",
       "       dtype='<U1'),\n",
       " array([13,  0, 12,  3,  6, 10,  1,  7,  8,  5, 15,  2,  4, 11, 14,  9]))"
      ]
     },
     "execution_count": 70,
     "metadata": {},
     "output_type": "execute_result"
    }
   ],
   "source": [
    "init = array([chr(i) for i in range(ord('a'), ord('p') + 1)])\n",
    "\n",
    "perm = []\n",
    "for i in a:\n",
    "    perm.append(where(init == i)[0][0])\n",
    "\n",
    "perm = array(perm)\n",
    "a, perm"
   ]
  },
  {
   "cell_type": "code",
   "execution_count": 42,
   "metadata": {},
   "outputs": [],
   "source": [
    "def first(n):\n",
    "    return arange(n)\n",
    "\n",
    "def perm_mul(a, b):\n",
    "    return a[b]\n",
    "\n",
    "def perm_power(a, n):\n",
    "    if n == 1:\n",
    "        return a\n",
    "    \n",
    "    if n % 2 == 0:\n",
    "        b = perm_power(a, n // 2)\n",
    "        return perm_mul(b, b)\n",
    "    \n",
    "    return perm_mul(perm_power(a, n - 1), a)"
   ]
  },
  {
   "cell_type": "code",
   "execution_count": 71,
   "metadata": {},
   "outputs": [
    {
     "data": {
      "text/plain": [
       "'namdgkbhifpceloj'"
      ]
     },
     "execution_count": 71,
     "metadata": {},
     "output_type": "execute_result"
    }
   ],
   "source": [
    "''.join(init[perm])"
   ]
  },
  {
   "cell_type": "code",
   "execution_count": 75,
   "metadata": {},
   "outputs": [
    {
     "data": {
      "text/plain": [
       "'abcdefghijklmnop'"
      ]
     },
     "execution_count": 75,
     "metadata": {},
     "output_type": "execute_result"
    }
   ],
   "source": [
    "''.join(init[perm_power(perm, 1000000)])"
   ]
  }
 ],
 "metadata": {
  "kernelspec": {
   "display_name": "Python 3",
   "language": "python",
   "name": "python3"
  },
  "language_info": {
   "codemirror_mode": {
    "name": "ipython",
    "version": 3
   },
   "file_extension": ".py",
   "mimetype": "text/x-python",
   "name": "python",
   "nbconvert_exporter": "python",
   "pygments_lexer": "ipython3",
   "version": "3.6.3"
  }
 },
 "nbformat": 4,
 "nbformat_minor": 1
}
