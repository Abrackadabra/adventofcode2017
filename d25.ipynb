{
 "cells": [
  {
   "cell_type": "code",
   "execution_count": 1,
   "metadata": {},
   "outputs": [
    {
     "name": "stdout",
     "output_type": "stream",
     "text": [
      "Populating the interactive namespace from numpy and matplotlib\n"
     ]
    }
   ],
   "source": [
    "%pylab inline"
   ]
  },
  {
   "cell_type": "code",
   "execution_count": 2,
   "metadata": {},
   "outputs": [],
   "source": [
    "import subprocess\n",
    "import re\n",
    "import itertools\n",
    "import functools\n",
    "import collections\n",
    "import tqdm"
   ]
  },
  {
   "cell_type": "code",
   "execution_count": 18,
   "metadata": {},
   "outputs": [
    {
     "name": "stdout",
     "output_type": "stream",
     "text": [
      "63 lines\n",
      "Begin in s\n",
      "Perform a \n",
      "\n",
      "In state A\n",
      "  If the c\n"
     ]
    }
   ],
   "source": [
    "import requests\n",
    "\n",
    "day_num = 25\n",
    "\n",
    "cookies = {\n",
    "    'session': '53616c7465645f5f465a94508e1037cf931dedaf44e298b1be500ec71305ff01432a6584b1fe922ea5bab725d96f17b1'\n",
    "}\n",
    "\n",
    "url = f'http://adventofcode.com/2017/day/{day_num}/input'\n",
    "\n",
    "r = requests.get(url, cookies=cookies)\n",
    "\n",
    "lines = [i.strip('\\n') for i in r.text.split('\\n')]\n",
    "\n",
    "print(f'{len(lines)} lines')\n",
    "\n",
    "for i in lines[:5]:\n",
    "    print(i[:10])"
   ]
  },
  {
   "cell_type": "code",
   "execution_count": 21,
   "metadata": {
    "scrolled": false
   },
   "outputs": [
    {
     "name": "stdout",
     "output_type": "stream",
     "text": [
      "In state A:\n",
      "1\n",
      "  If the current value is 0:\n",
      "2\n",
      "    - Write the value 1.\n",
      "3\n",
      "    - Move one slot to the right.\n",
      "4\n",
      "    - Continue with state B.\n",
      "5\n",
      "  If the current value is 1:\n",
      "2\n",
      "    - Write the value 0.\n",
      "3\n",
      "    - Move one slot to the left.\n",
      "4\n",
      "    - Continue with state C.\n",
      "5\n",
      "\n",
      "In state B:\n",
      "1\n",
      "  If the current value is 0:\n",
      "2\n",
      "    - Write the value 1.\n",
      "3\n",
      "    - Move one slot to the left.\n",
      "4\n",
      "    - Continue with state A.\n",
      "5\n",
      "  If the current value is 1:\n",
      "2\n",
      "    - Write the value 1.\n",
      "3\n",
      "    - Move one slot to the left.\n",
      "4\n",
      "    - Continue with state D.\n",
      "5\n",
      "\n",
      "In state C:\n",
      "1\n",
      "  If the current value is 0:\n",
      "2\n",
      "    - Write the value 1.\n",
      "3\n",
      "    - Move one slot to the right.\n",
      "4\n",
      "    - Continue with state D.\n",
      "5\n",
      "  If the current value is 1:\n",
      "2\n",
      "    - Write the value 0.\n",
      "3\n",
      "    - Move one slot to the right.\n",
      "4\n",
      "    - Continue with state C.\n",
      "5\n",
      "\n",
      "In state D:\n",
      "1\n",
      "  If the current value is 0:\n",
      "2\n",
      "    - Write the value 0.\n",
      "3\n",
      "    - Move one slot to the left.\n",
      "4\n",
      "    - Continue with state B.\n",
      "5\n",
      "  If the current value is 1:\n",
      "2\n",
      "    - Write the value 0.\n",
      "3\n",
      "    - Move one slot to the right.\n",
      "4\n",
      "    - Continue with state E.\n",
      "5\n",
      "\n",
      "In state E:\n",
      "1\n",
      "  If the current value is 0:\n",
      "2\n",
      "    - Write the value 1.\n",
      "3\n",
      "    - Move one slot to the right.\n",
      "4\n",
      "    - Continue with state C.\n",
      "5\n",
      "  If the current value is 1:\n",
      "2\n",
      "    - Write the value 1.\n",
      "3\n",
      "    - Move one slot to the left.\n",
      "4\n",
      "    - Continue with state F.\n",
      "5\n",
      "\n",
      "In state F:\n",
      "1\n",
      "  If the current value is 0:\n",
      "2\n",
      "    - Write the value 1.\n",
      "3\n",
      "    - Move one slot to the left.\n",
      "4\n",
      "    - Continue with state E.\n",
      "5\n",
      "  If the current value is 1:\n",
      "2\n",
      "    - Write the value 1.\n",
      "3\n",
      "    - Move one slot to the right.\n",
      "4\n",
      "    - Continue with state A.\n",
      "5\n",
      "\n"
     ]
    }
   ],
   "source": [
    "actions = {}\n",
    "\n",
    "curpos = ''\n",
    "\n",
    "for i in lines[3:]:\n",
    "    print(i)\n",
    "    m = re.findall('^In state (.)', i)\n",
    "    if m:\n",
    "        print(1)\n",
    "        curpos = [None, None]\n",
    "        curpos[0] = m[0]\n",
    "        continue\n",
    "        \n",
    "    m = re.findall('^  If the current value is (\\d+)', i)\n",
    "    if m:\n",
    "        curpos = list(curpos)\n",
    "        print(2)\n",
    "        curpos[1] = int(m[0])\n",
    "        curpos = tuple(curpos)\n",
    "        actions[curpos] = [None, None, None]\n",
    "        continue\n",
    "        \n",
    "    m = re.findall('^    - Write the value (\\d+)', i)\n",
    "    if m:\n",
    "        print(3)\n",
    "        actions[curpos][0] = int(m[0])\n",
    "        continue\n",
    "        \n",
    "    m = re.findall('^    - Move one slot to the (\\w+)', i)\n",
    "    if m:\n",
    "        print(4)\n",
    "        actions[curpos][1] = 1 if m[0] == 'right' else -1\n",
    "        continue\n",
    "        \n",
    "    m = re.findall('^    - Continue with state (\\w+)', i)\n",
    "    if m:\n",
    "        print(5)\n",
    "        actions[curpos][2] = m[0]\n",
    "        continue\n",
    "        \n",
    "    if not i.strip():\n",
    "        continue\n",
    "    \n",
    "    print('wat', i)"
   ]
  },
  {
   "cell_type": "code",
   "execution_count": 22,
   "metadata": {},
   "outputs": [
    {
     "data": {
      "text/plain": [
       "{('A', 0): [1, 1, 'B'],\n",
       " ('A', 1): [0, -1, 'C'],\n",
       " ('B', 0): [1, -1, 'A'],\n",
       " ('B', 1): [1, -1, 'D'],\n",
       " ('C', 0): [1, 1, 'D'],\n",
       " ('C', 1): [0, 1, 'C'],\n",
       " ('D', 0): [0, -1, 'B'],\n",
       " ('D', 1): [0, 1, 'E'],\n",
       " ('E', 0): [1, 1, 'C'],\n",
       " ('E', 1): [1, -1, 'F'],\n",
       " ('F', 0): [1, -1, 'E'],\n",
       " ('F', 1): [1, 1, 'A']}"
      ]
     },
     "execution_count": 22,
     "metadata": {},
     "output_type": "execute_result"
    }
   ],
   "source": [
    "actions"
   ]
  },
  {
   "cell_type": "code",
   "execution_count": 25,
   "metadata": {},
   "outputs": [
    {
     "name": "stderr",
     "output_type": "stream",
     "text": [
      "100%|██████████| 12172063/12172063 [00:11<00:00, 1030838.26it/s]\n"
     ]
    }
   ],
   "source": [
    "memory = collections.defaultdict(int)\n",
    "state = 'A'\n",
    "pos = 0\n",
    "\n",
    "for i in tqdm.trange(12172063):\n",
    "    todo = actions[(state, memory[pos])]\n",
    "    memory[pos] = todo[0]\n",
    "    pos += todo[1]\n",
    "    state = todo[2]"
   ]
  },
  {
   "cell_type": "code",
   "execution_count": 27,
   "metadata": {},
   "outputs": [
    {
     "data": {
      "text/plain": [
       "2474"
      ]
     },
     "execution_count": 27,
     "metadata": {},
     "output_type": "execute_result"
    }
   ],
   "source": [
    "sum(list(memory.values()))"
   ]
  }
 ],
 "metadata": {
  "kernelspec": {
   "display_name": "Python 3",
   "language": "python",
   "name": "python3"
  },
  "language_info": {
   "codemirror_mode": {
    "name": "ipython",
    "version": 3
   },
   "file_extension": ".py",
   "mimetype": "text/x-python",
   "name": "python",
   "nbconvert_exporter": "python",
   "pygments_lexer": "ipython3",
   "version": "3.6.3"
  }
 },
 "nbformat": 4,
 "nbformat_minor": 1
}
