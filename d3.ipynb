{
 "cells": [
  {
   "cell_type": "code",
   "execution_count": 1,
   "metadata": {},
   "outputs": [
    {
     "name": "stdout",
     "output_type": "stream",
     "text": [
      "Populating the interactive namespace from numpy and matplotlib\n"
     ]
    }
   ],
   "source": [
    "%pylab inline"
   ]
  },
  {
   "cell_type": "code",
   "execution_count": 2,
   "metadata": {},
   "outputs": [],
   "source": [
    "import requests\n",
    "\n",
    "cookies = {\n",
    "    'session': '53616c7465645f5f465a94508e1037cf931dedaf44e298b1be500ec71305ff01432a6584b1fe922ea5bab725d96f17b1'\n",
    "}\n",
    "\n",
    "url = 'http://adventofcode.com/2017/day/3/input'\n",
    "\n",
    "r = requests.get(url, cookies=cookies)\n",
    "\n",
    "lines = [i.strip() for i in r.text.split('\\n')][:-1]"
   ]
  },
  {
   "cell_type": "code",
   "execution_count": 4,
   "metadata": {},
   "outputs": [],
   "source": [
    "seek = int(lines[0])"
   ]
  },
  {
   "cell_type": "code",
   "execution_count": 33,
   "metadata": {},
   "outputs": [],
   "source": [
    "dirs = [\n",
    "    [-1, 0],\n",
    "    [0, -1],\n",
    "    [1, 0],\n",
    "    [0, 1]\n",
    "]"
   ]
  },
  {
   "cell_type": "code",
   "execution_count": 40,
   "metadata": {},
   "outputs": [
    {
     "data": {
      "text/plain": [
       "array([-15, -16])"
      ]
     },
     "execution_count": 40,
     "metadata": {},
     "output_type": "execute_result"
    }
   ],
   "source": [
    "def get_coord(t):\n",
    "    l = int(ceil(sqrt(t))) // 2 * 2 + 1\n",
    "    c = array([l // 2, l // 2])\n",
    "#     print(l)\n",
    "    \n",
    "    tt = l ** 2\n",
    "    for d in dirs:\n",
    "        if tt - l + 1 <= t <= tt:\n",
    "            diff = tt - t\n",
    "        else:\n",
    "            diff = l - 1\n",
    "        c += array(d) * diff\n",
    "        tt -= diff\n",
    "#         print(diff, c, tt, t)\n",
    "        if tt == t:\n",
    "            return c\n",
    "    \n",
    "get_coord(1024)"
   ]
  },
  {
   "cell_type": "code",
   "execution_count": 41,
   "metadata": {},
   "outputs": [
    {
     "data": {
      "text/plain": [
       "430"
      ]
     },
     "execution_count": 41,
     "metadata": {},
     "output_type": "execute_result"
    }
   ],
   "source": [
    "sum(abs(get_coord(seek)))"
   ]
  },
  {
   "cell_type": "code",
   "execution_count": 42,
   "metadata": {},
   "outputs": [],
   "source": [
    "from collections import defaultdict"
   ]
  },
  {
   "cell_type": "code",
   "execution_count": 43,
   "metadata": {},
   "outputs": [],
   "source": []
  },
  {
   "cell_type": "code",
   "execution_count": 44,
   "metadata": {},
   "outputs": [],
   "source": [
    "import itertools"
   ]
  },
  {
   "cell_type": "code",
   "execution_count": 52,
   "metadata": {},
   "outputs": [],
   "source": [
    "ddirs = list(itertools.product(linspace(-1, 1, 3, dtype=int), linspace(-1, 1, 3, dtype=int)))\n",
    "ddirs = list(filter(lambda x: logical_or(*(array(x) != 0)), ddirs))\n",
    "ddirs = [array(i) for i in ddirs]"
   ]
  },
  {
   "cell_type": "code",
   "execution_count": 56,
   "metadata": {},
   "outputs": [
    {
     "name": "stdout",
     "output_type": "stream",
     "text": [
      "[1 0] 1\n",
      "[ 1 -1] 2\n",
      "[ 0 -1] 4\n",
      "[-1 -1] 5\n",
      "[-1  0] 10\n",
      "[-1  1] 11\n",
      "[0 1] 23\n",
      "[1 1] 25\n",
      "[2 1] 26\n",
      "[2 0] 54\n",
      "[ 2 -1] 57\n",
      "[ 2 -2] 59\n",
      "[ 1 -2] 122\n",
      "[ 0 -2] 133\n",
      "[-1 -2] 142\n",
      "[-2 -2] 147\n",
      "[-2 -1] 304\n",
      "[-2  0] 330\n",
      "[-2  1] 351\n",
      "[-2  2] 362\n",
      "[-1  2] 747\n",
      "[0 2] 806\n",
      "[1 2] 880\n",
      "[2 2] 931\n",
      "[3 2] 957\n",
      "[3 1] 1968\n",
      "[3 0] 2105\n",
      "[ 3 -1] 2275\n",
      "[ 3 -2] 2391\n",
      "[ 3 -3] 2450\n",
      "[ 2 -3] 5022\n",
      "[ 1 -3] 5336\n",
      "[ 0 -3] 5733\n",
      "[-1 -3] 6155\n",
      "[-2 -3] 6444\n",
      "[-3 -3] 6591\n",
      "[-3 -2] 13486\n",
      "[-3 -1] 14267\n",
      "[-3  0] 15252\n",
      "[-3  1] 16295\n",
      "[-3  2] 17008\n",
      "[-3  3] 17370\n",
      "[-2  3] 35487\n",
      "[-1  3] 37402\n",
      "[0 3] 39835\n",
      "[1 3] 42452\n",
      "[2 3] 45220\n",
      "[3 3] 47108\n",
      "[4 3] 48065\n",
      "[4 2] 98098\n",
      "[4 1] 103128\n",
      "[4 0] 109476\n",
      "[ 4 -1] 116247\n",
      "[ 4 -2] 123363\n",
      "[ 4 -3] 128204\n",
      "[ 4 -4] 130654\n",
      "[ 3 -4] 266330\n",
      "[ 2 -4] 279138\n",
      "[ 1 -4] 295229\n",
      "[ 0 -4] 312453\n",
      "[-1 -4] 330785\n",
      "[-2 -4] 349975\n",
      "[-3 -4] 363010\n",
      "[-4 -4] 369601\n",
      "[-4 -3] 752688\n",
      "[-4 -2] 787032\n",
      "[-4 -1] 830037\n",
      "[-4  0] 875851\n",
      "[-4  1] 924406\n",
      "[-4  2] 975079\n",
      "[-4  3] 1009457\n",
      "[-4  4] 1026827\n",
      "[-3  4] 2089141\n",
      "[-2  4] 2179400\n",
      "[-1  4] 2292124\n",
      "[0 4] 2411813\n",
      "[1 4] 2539320\n",
      "[2 4] 2674100\n",
      "[3 4] 2814493\n",
      "[4 4] 2909666\n",
      "[5 4] 2957731\n",
      "[5 3] 6013560\n",
      "[5 2] 6262851\n",
      "[5 1] 6573553\n",
      "[5 0] 6902404\n",
      "[ 5 -1] 7251490\n",
      "[ 5 -2] 7619304\n",
      "[ 5 -3] 8001525\n",
      "[ 5 -4] 8260383\n",
      "[ 5 -5] 8391037\n",
      "[ 4 -5] 17048404\n",
      "[ 3 -5] 17724526\n",
      "[ 2 -5] 18565223\n",
      "[ 1 -5] 19452043\n",
      "[ 0 -5] 20390510\n",
      "[-1 -5] 21383723\n",
      "[-2 -5] 22427493\n",
      "[-3 -5] 23510079\n"
     ]
    }
   ],
   "source": [
    "z = defaultdict(int)\n",
    "\n",
    "z[(0, 0)] = 1\n",
    "\n",
    "for i in range(2, 100):\n",
    "    c = get_coord(i)\n",
    "    \n",
    "    t = 0\n",
    "    for d in ddirs:\n",
    "        cc = c + d\n",
    "        t += z[tuple(cc)]\n",
    "    z[tuple(c)] = t\n",
    "    print(c, t)"
   ]
  }
 ],
 "metadata": {
  "kernelspec": {
   "display_name": "Python 3",
   "language": "python",
   "name": "python3"
  },
  "language_info": {
   "codemirror_mode": {
    "name": "ipython",
    "version": 3
   },
   "file_extension": ".py",
   "mimetype": "text/x-python",
   "name": "python",
   "nbconvert_exporter": "python",
   "pygments_lexer": "ipython3",
   "version": "3.6.3"
  }
 },
 "nbformat": 4,
 "nbformat_minor": 1
}
