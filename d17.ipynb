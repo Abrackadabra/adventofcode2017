{
 "cells": [
  {
   "cell_type": "code",
   "execution_count": 1,
   "metadata": {},
   "outputs": [
    {
     "name": "stdout",
     "output_type": "stream",
     "text": [
      "Populating the interactive namespace from numpy and matplotlib\n"
     ]
    }
   ],
   "source": [
    "%pylab inline"
   ]
  },
  {
   "cell_type": "code",
   "execution_count": 2,
   "metadata": {},
   "outputs": [],
   "source": [
    "import subprocess\n",
    "import re\n",
    "import itertools\n",
    "import functools\n",
    "import collections\n",
    "import tqdm"
   ]
  },
  {
   "cell_type": "code",
   "execution_count": 3,
   "metadata": {},
   "outputs": [
    {
     "name": "stdout",
     "output_type": "stream",
     "text": [
      "1 lines\n",
      "345\n"
     ]
    }
   ],
   "source": [
    "import requests\n",
    "\n",
    "day_num = 17\n",
    "\n",
    "cookies = {\n",
    "    'session': '53616c7465645f5f465a94508e1037cf931dedaf44e298b1be500ec71305ff01432a6584b1fe922ea5bab725d96f17b1'\n",
    "}\n",
    "\n",
    "url = f'http://adventofcode.com/2017/day/{day_num}/input'\n",
    "\n",
    "r = requests.get(url, cookies=cookies)\n",
    "\n",
    "lines = [i.strip() for i in r.text.split('\\n')][:-1]\n",
    "\n",
    "print(f'{len(lines)} lines')\n",
    "\n",
    "for i in lines[:5]:\n",
    "    print(i[:10])"
   ]
  },
  {
   "cell_type": "code",
   "execution_count": 4,
   "metadata": {},
   "outputs": [
    {
     "data": {
      "text/plain": [
       "866"
      ]
     },
     "execution_count": 4,
     "metadata": {},
     "output_type": "execute_result"
    }
   ],
   "source": [
    "x = int(lines[0])\n",
    "\n",
    "pos = 0\n",
    "a = [0]\n",
    "\n",
    "# x = 3\n",
    "iters = 2017\n",
    "\n",
    "for i in range(iters):\n",
    "    pos = (pos + x) % len(a)\n",
    "    a = a[:pos + 1] + [i + 1] + a[pos + 1:]\n",
    "    pos = (pos + 1) % len(a)\n",
    "    \n",
    "a[pos + 1]"
   ]
  },
  {
   "cell_type": "code",
   "execution_count": 5,
   "metadata": {},
   "outputs": [
    {
     "data": {
      "text/plain": [
       "[0, 55, 696, 1753, 1508, 686, 1664, 119, 757, 1703]"
      ]
     },
     "execution_count": 5,
     "metadata": {},
     "output_type": "execute_result"
    }
   ],
   "source": [
    "a[:10]"
   ]
  },
  {
   "cell_type": "code",
   "execution_count": 6,
   "metadata": {},
   "outputs": [
    {
     "name": "stderr",
     "output_type": "stream",
     "text": [
      "100%|██████████| 50000000/50000000 [00:44<00:00, 1129560.53it/s]\n"
     ]
    },
    {
     "data": {
      "text/plain": [
       "11995607"
      ]
     },
     "execution_count": 6,
     "metadata": {},
     "output_type": "execute_result"
    }
   ],
   "source": [
    "x = int(lines[0])\n",
    "\n",
    "pos = 0\n",
    "a = [0]\n",
    "\n",
    "# x = 3\n",
    "iters = 50_000_000\n",
    "\n",
    "after_zero = -1\n",
    "\n",
    "l = 1\n",
    "\n",
    "for i in tqdm.trange(iters):\n",
    "    pos = (pos + x) % l\n",
    "    if pos == 0:\n",
    "        after_zero = i + 1\n",
    "    l += 1\n",
    "#     a = a[:pos + 1] + [i + 1] + a[pos + 1:]\n",
    "    pos = (pos + 1) % l\n",
    "    \n",
    "after_zero"
   ]
  },
  {
   "cell_type": "code",
   "execution_count": 7,
   "metadata": {},
   "outputs": [
    {
     "data": {
      "text/plain": [
       "[0]"
      ]
     },
     "execution_count": 7,
     "metadata": {},
     "output_type": "execute_result"
    }
   ],
   "source": [
    "a[:5]"
   ]
  }
 ],
 "metadata": {
  "kernelspec": {
   "display_name": "Python 3",
   "language": "python",
   "name": "python3"
  },
  "language_info": {
   "codemirror_mode": {
    "name": "ipython",
    "version": 3
   },
   "file_extension": ".py",
   "mimetype": "text/x-python",
   "name": "python",
   "nbconvert_exporter": "python",
   "pygments_lexer": "ipython3",
   "version": "3.6.3"
  }
 },
 "nbformat": 4,
 "nbformat_minor": 1
}
