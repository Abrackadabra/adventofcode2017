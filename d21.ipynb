{
 "cells": [
  {
   "cell_type": "code",
   "execution_count": 1,
   "metadata": {},
   "outputs": [
    {
     "name": "stdout",
     "output_type": "stream",
     "text": [
      "Populating the interactive namespace from numpy and matplotlib\n"
     ]
    }
   ],
   "source": [
    "%pylab inline"
   ]
  },
  {
   "cell_type": "code",
   "execution_count": 2,
   "metadata": {},
   "outputs": [],
   "source": [
    "import subprocess\n",
    "import re\n",
    "import itertools\n",
    "import functools\n",
    "import collections\n",
    "import tqdm"
   ]
  },
  {
   "cell_type": "code",
   "execution_count": 3,
   "metadata": {},
   "outputs": [
    {
     "name": "stdout",
     "output_type": "stream",
     "text": [
      "108 lines\n",
      "../.. => #\n",
      "#./.. => .\n",
      "##/.. => .\n",
      ".#/#. => #\n",
      "##/#. => #\n"
     ]
    }
   ],
   "source": [
    "import requests\n",
    "\n",
    "day_num = 21\n",
    "\n",
    "cookies = {\n",
    "    'session': '53616c7465645f5f465a94508e1037cf931dedaf44e298b1be500ec71305ff01432a6584b1fe922ea5bab725d96f17b1'\n",
    "}\n",
    "\n",
    "url = f'http://adventofcode.com/2017/day/{day_num}/input'\n",
    "\n",
    "r = requests.get(url, cookies=cookies)\n",
    "\n",
    "lines = [i.strip() for i in r.text.split('\\n')][:-1]\n",
    "\n",
    "print(f'{len(lines)} lines')\n",
    "\n",
    "for i in lines[:5]:\n",
    "    print(i[:10])"
   ]
  },
  {
   "cell_type": "code",
   "execution_count": 6,
   "metadata": {},
   "outputs": [
    {
     "data": {
      "text/plain": [
       "[(0, 0),\n",
       " (0, 1),\n",
       " (0, 2),\n",
       " (1, 0),\n",
       " (1, 1),\n",
       " (1, 2),\n",
       " (2, 0),\n",
       " (2, 1),\n",
       " (2, 2),\n",
       " (3, 0),\n",
       " (3, 1),\n",
       " (3, 2),\n",
       " (4, 0),\n",
       " (4, 1),\n",
       " (4, 2),\n",
       " (5, 0),\n",
       " (5, 1),\n",
       " (5, 2),\n",
       " (6, 0),\n",
       " (6, 1),\n",
       " (6, 2),\n",
       " (7, 0),\n",
       " (7, 1),\n",
       " (7, 2),\n",
       " (8, 0),\n",
       " (8, 1),\n",
       " (8, 2),\n",
       " (9, 0),\n",
       " (9, 1),\n",
       " (9, 2)]"
      ]
     },
     "execution_count": 6,
     "metadata": {},
     "output_type": "execute_result"
    }
   ],
   "source": [
    "list(itertools.product(range(10), range(3)))"
   ]
  },
  {
   "cell_type": "code",
   "execution_count": 9,
   "metadata": {},
   "outputs": [
    {
     "name": "stderr",
     "output_type": "stream",
     "text": [
      "-c:1: DeprecationWarning: elementwise == comparison failed; this will raise an error in the future.\n"
     ]
    },
    {
     "data": {
      "text/plain": [
       "False"
      ]
     },
     "execution_count": 9,
     "metadata": {},
     "output_type": "execute_result"
    }
   ],
   "source": [
    "eye(2) == eye(3)"
   ]
  },
  {
   "cell_type": "code",
   "execution_count": 24,
   "metadata": {},
   "outputs": [],
   "source": [
    "def coord_i(a):\n",
    "    return itertools.product(*map(range, a.shape))"
   ]
  },
  {
   "cell_type": "code",
   "execution_count": 23,
   "metadata": {},
   "outputs": [],
   "source": [
    "def a_to_num(a):\n",
    "    t = 0\n",
    "    for i, j in coord_i(a):\n",
    "        t <<= 1\n",
    "        t += a[i, j]\n",
    "    t += (1 << 20) * len(a)\n",
    "    return t"
   ]
  },
  {
   "cell_type": "code",
   "execution_count": 30,
   "metadata": {},
   "outputs": [
    {
     "data": {
      "text/plain": [
       "array([[ 3,  2,  1,  0],\n",
       "       [ 7,  6,  5,  4],\n",
       "       [11, 10,  9,  8],\n",
       "       [15, 14, 13, 12]])"
      ]
     },
     "execution_count": 30,
     "metadata": {},
     "output_type": "execute_result"
    }
   ],
   "source": [
    "def flip(a):\n",
    "    b = array(a)\n",
    "    n = len(a)\n",
    "    for i, j in coord_i(a):\n",
    "        b[i, n - j - 1] = a[i, j]\n",
    "    return b\n",
    "\n",
    "flip(arange(16).reshape((4, 4)))"
   ]
  },
  {
   "cell_type": "code",
   "execution_count": 29,
   "metadata": {},
   "outputs": [
    {
     "data": {
      "text/plain": [
       "array([[12,  8,  4,  0],\n",
       "       [13,  9,  5,  1],\n",
       "       [14, 10,  6,  2],\n",
       "       [15, 11,  7,  3]])"
      ]
     },
     "execution_count": 29,
     "metadata": {},
     "output_type": "execute_result"
    }
   ],
   "source": [
    "def rotate(a):\n",
    "    b = array(a)\n",
    "    n = len(a)\n",
    "    for i, j in coord_i(a):\n",
    "        b[i, j] = a[n - 1 - j, i]\n",
    "    return b\n",
    "\n",
    "rotate(arange(16).reshape((4, 4)))"
   ]
  },
  {
   "cell_type": "code",
   "execution_count": 33,
   "metadata": {},
   "outputs": [],
   "source": [
    "def morphs(a):\n",
    "    for rotation_count in range(4):\n",
    "        for flip_count in range(2):\n",
    "            t = array(a)\n",
    "            for i in range(flip_count):\n",
    "                t = flip(t)\n",
    "            for i in range(rotation_count):\n",
    "                t = rotate(t)\n",
    "            yield t"
   ]
  },
  {
   "cell_type": "code",
   "execution_count": 44,
   "metadata": {},
   "outputs": [],
   "source": [
    "replacements = {}\n",
    "\n",
    "for i in lines:\n",
    "    p_in, p_out = re.split(r' => ', i)\n",
    "    \n",
    "    p_in = p_in.split('/')\n",
    "    p_out = p_out.split('/')\n",
    "    \n",
    "    n_in = len(p_in)\n",
    "    n_out = len(p_out)\n",
    "    \n",
    "    a_in = zeros((n_in, n_in), dtype=bool)\n",
    "    a_out = zeros((n_out, n_out), dtype=bool)\n",
    "    \n",
    "    for x, y in itertools.product(range(n_in), range(n_in)):\n",
    "        a_in[x, y] = p_in[x][y] == '#'\n",
    "        \n",
    "    for x, y in itertools.product(range(n_out), range(n_out)):\n",
    "        a_out[x, y] = p_out[x][y] == '#'\n",
    "        \n",
    "    for t in morphs(a_in):\n",
    "        replacements[a_to_num(t)] = a_out"
   ]
  },
  {
   "cell_type": "code",
   "execution_count": 40,
   "metadata": {},
   "outputs": [],
   "source": [
    "test_lines = \"\"\"../.# => ##./#../...\n",
    ".#./..#/### => #..#/..../..../#..#\"\"\".split('\\n')\n",
    "\n",
    "replacements = {}\n",
    "\n",
    "for i in test_lines:\n",
    "    p_in, p_out = re.split(r' => ', i)\n",
    "    \n",
    "    p_in = p_in.split('/')\n",
    "    p_out = p_out.split('/')\n",
    "    \n",
    "    n_in = len(p_in)\n",
    "    n_out = len(p_out)\n",
    "    \n",
    "    a_in = zeros((n_in, n_in), dtype=bool)\n",
    "    a_out = zeros((n_out, n_out), dtype=bool)\n",
    "    \n",
    "    for x, y in itertools.product(range(n_in), range(n_in)):\n",
    "        a_in[x, y] = p_in[x][y] == '#'\n",
    "        \n",
    "    for x, y in itertools.product(range(n_out), range(n_out)):\n",
    "        a_out[x, y] = p_out[x][y] == '#'\n",
    "        \n",
    "    for t in morphs(a_in):\n",
    "        replacements[a_to_num(t)] = a_out"
   ]
  },
  {
   "cell_type": "code",
   "execution_count": 45,
   "metadata": {},
   "outputs": [],
   "source": [
    "start = \"\"\".#.\n",
    "..#\n",
    "###\"\"\".split()\n",
    "start = array([[j == '#' for j in i] for i in start])"
   ]
  },
  {
   "cell_type": "code",
   "execution_count": 46,
   "metadata": {},
   "outputs": [],
   "source": [
    "def evolve(a):\n",
    "    n = len(a)\n",
    "    \n",
    "    if n == 2 or n == 3:\n",
    "        return replacements[a_to_num(a)]\n",
    "    \n",
    "    if n % 2 == 0:\n",
    "        m = n // 2\n",
    "        b = zeros((m * 3, m * 3), dtype=bool)\n",
    "        for i, j in itertools.product(range(m), range(m)):\n",
    "            b[i*3:i*3+3,j*3:j*3+3] = replacements[a_to_num(a[i*2:i*2+2,j*2:j*2+2])]\n",
    "        return b\n",
    "    \n",
    "    if n % 3 == 0:\n",
    "        m = n // 3\n",
    "        b = zeros((m * 4, m * 4), dtype=bool)\n",
    "        for i, j in itertools.product(range(m), range(m)):\n",
    "            b[i*4:i*4+4,j*4:j*4+4] = replacements[a_to_num(a[i*3:i*3+3,j*3:j*3+3])]\n",
    "        return b\n",
    "\n",
    "    print(\":(\")"
   ]
  },
  {
   "cell_type": "code",
   "execution_count": 52,
   "metadata": {},
   "outputs": [
    {
     "name": "stderr",
     "output_type": "stream",
     "text": [
      "100%|██████████| 18/18 [00:15<00:00,  1.13it/s] \n"
     ]
    },
    {
     "data": {
      "text/plain": [
       "array([[ True,  True, False, ...,  True, False,  True],\n",
       "       [False, False, False, ...,  True,  True,  True],\n",
       "       [False,  True, False, ..., False,  True, False],\n",
       "       ..., \n",
       "       [ True,  True, False, ..., False, False,  True],\n",
       "       [False, False, False, ...,  True,  True, False],\n",
       "       [False,  True, False, ...,  True,  True, False]], dtype=bool)"
      ]
     },
     "execution_count": 52,
     "metadata": {},
     "output_type": "execute_result"
    }
   ],
   "source": [
    "a = start\n",
    "for i in tqdm.trange(18):\n",
    "    a = evolve(a)\n",
    "a"
   ]
  },
  {
   "cell_type": "code",
   "execution_count": 53,
   "metadata": {},
   "outputs": [
    {
     "data": {
      "text/plain": [
       "2480380"
      ]
     },
     "execution_count": 53,
     "metadata": {},
     "output_type": "execute_result"
    }
   ],
   "source": [
    "sum(a)"
   ]
  }
 ],
 "metadata": {
  "kernelspec": {
   "display_name": "Python 3",
   "language": "python",
   "name": "python3"
  },
  "language_info": {
   "codemirror_mode": {
    "name": "ipython",
    "version": 3
   },
   "file_extension": ".py",
   "mimetype": "text/x-python",
   "name": "python",
   "nbconvert_exporter": "python",
   "pygments_lexer": "ipython3",
   "version": "3.6.3"
  }
 },
 "nbformat": 4,
 "nbformat_minor": 1
}
