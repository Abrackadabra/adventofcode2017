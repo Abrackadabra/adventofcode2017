{
 "cells": [
  {
   "cell_type": "code",
   "execution_count": 1,
   "metadata": {},
   "outputs": [
    {
     "name": "stdout",
     "output_type": "stream",
     "text": [
      "Populating the interactive namespace from numpy and matplotlib\n"
     ]
    }
   ],
   "source": [
    "%pylab inline"
   ]
  },
  {
   "cell_type": "code",
   "execution_count": 2,
   "metadata": {},
   "outputs": [],
   "source": [
    "import subprocess\n",
    "import re\n",
    "import itertools\n",
    "import functools\n",
    "import collections\n",
    "import tqdm"
   ]
  },
  {
   "cell_type": "code",
   "execution_count": 3,
   "metadata": {},
   "outputs": [
    {
     "name": "stdout",
     "output_type": "stream",
     "text": [
      "57 lines\n",
      "25/13\n",
      "4/43\n",
      "42/42\n",
      "39/40\n",
      "17/18\n"
     ]
    }
   ],
   "source": [
    "import requests\n",
    "\n",
    "day_num = 24\n",
    "\n",
    "cookies = {\n",
    "    'session': '53616c7465645f5f465a94508e1037cf931dedaf44e298b1be500ec71305ff01432a6584b1fe922ea5bab725d96f17b1'\n",
    "}\n",
    "\n",
    "url = f'http://adventofcode.com/2017/day/{day_num}/input'\n",
    "\n",
    "r = requests.get(url, cookies=cookies)\n",
    "\n",
    "lines = [i.strip() for i in r.text.split('\\n')][:-1]\n",
    "\n",
    "print(f'{len(lines)} lines')\n",
    "\n",
    "for i in lines[:5]:\n",
    "    print(i[:10])"
   ]
  },
  {
   "cell_type": "code",
   "execution_count": 32,
   "metadata": {},
   "outputs": [],
   "source": [
    "testlines = \"\"\"0/2\n",
    "2/2\n",
    "2/3\n",
    "3/4\n",
    "3/5\n",
    "0/1\n",
    "10/1\n",
    "9/10\"\"\".split('\\n')"
   ]
  },
  {
   "cell_type": "code",
   "execution_count": 94,
   "metadata": {
    "scrolled": false
   },
   "outputs": [
    {
     "data": {
      "text/plain": [
       "(40, 1841)"
      ]
     },
     "execution_count": 94,
     "metadata": {},
     "output_type": "execute_result"
    }
   ],
   "source": [
    "def solve(lines):\n",
    "    edges = collections.defaultdict(set)\n",
    "#     duplicates = set()\n",
    "\n",
    "    for i in lines:\n",
    "        p_in, p_out = [*map(int, i.split('/'))]\n",
    "\n",
    "#         if p_in == p_out:\n",
    "#             duplicates.add(p_in)\n",
    "#             continue\n",
    "\n",
    "        edges[p_in].add(p_out)\n",
    "        edges[p_out].add(p_in)\n",
    "\n",
    "    used_edges = set()\n",
    "\n",
    "    def dfs(v, start_l, start_str):\n",
    "        max_l = start_l\n",
    "        max_str = start_str\n",
    "        \n",
    "        for i in edges[v]:\n",
    "            t = (min(v, i), max(v, i))\n",
    "            \n",
    "            if t in used_edges:\n",
    "                continue\n",
    "            \n",
    "            used_edges.add(t)\n",
    "            \n",
    "            n_l, n_str = dfs(i, start_l + 1, start_str + v + i)\n",
    "            \n",
    "            if n_l > max_l:\n",
    "                max_l = n_l\n",
    "                max_str = n_str\n",
    "            if n_l == max_l and n_str > max_str:\n",
    "                max_str = n_str\n",
    "            \n",
    "            used_edges.remove(t)\n",
    "\n",
    "        return max_l, max_str\n",
    "\n",
    "    return dfs(0, 0, 0)\n",
    "\n",
    "solve(lines)"
   ]
  },
  {
   "cell_type": "code",
   "execution_count": 88,
   "metadata": {},
   "outputs": [],
   "source": [
    "list.index?"
   ]
  }
 ],
 "metadata": {
  "kernelspec": {
   "display_name": "Python 3",
   "language": "python",
   "name": "python3"
  },
  "language_info": {
   "codemirror_mode": {
    "name": "ipython",
    "version": 3
   },
   "file_extension": ".py",
   "mimetype": "text/x-python",
   "name": "python",
   "nbconvert_exporter": "python",
   "pygments_lexer": "ipython3",
   "version": "3.6.3"
  }
 },
 "nbformat": 4,
 "nbformat_minor": 1
}
