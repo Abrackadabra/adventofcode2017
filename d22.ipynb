{
 "cells": [
  {
   "cell_type": "code",
   "execution_count": 1,
   "metadata": {},
   "outputs": [
    {
     "name": "stdout",
     "output_type": "stream",
     "text": [
      "Populating the interactive namespace from numpy and matplotlib\n"
     ]
    }
   ],
   "source": [
    "%pylab inline"
   ]
  },
  {
   "cell_type": "code",
   "execution_count": 2,
   "metadata": {},
   "outputs": [],
   "source": [
    "import subprocess\n",
    "import re\n",
    "import itertools\n",
    "import functools\n",
    "import collections\n",
    "import tqdm"
   ]
  },
  {
   "cell_type": "code",
   "execution_count": 3,
   "metadata": {},
   "outputs": [
    {
     "name": "stdout",
     "output_type": "stream",
     "text": [
      "25 lines\n",
      ".#.##..##.\n",
      "#.......##\n",
      "##.###..#.\n",
      "##...#.#.#\n",
      ".#....#..#\n"
     ]
    }
   ],
   "source": [
    "import requests\n",
    "\n",
    "day_num = 22\n",
    "\n",
    "cookies = {\n",
    "    'session': '53616c7465645f5f465a94508e1037cf931dedaf44e298b1be500ec71305ff01432a6584b1fe922ea5bab725d96f17b1'\n",
    "}\n",
    "\n",
    "url = f'http://adventofcode.com/2017/day/{day_num}/input'\n",
    "\n",
    "r = requests.get(url, cookies=cookies)\n",
    "\n",
    "lines = [i.strip() for i in r.text.split('\\n')][:-1]\n",
    "\n",
    "print(f'{len(lines)} lines')\n",
    "\n",
    "for i in lines[:5]:\n",
    "    print(i[:10])"
   ]
  },
  {
   "cell_type": "code",
   "execution_count": 4,
   "metadata": {},
   "outputs": [],
   "source": [
    "M = array([[j == '#' for j in i] for i in lines], dtype=bool)"
   ]
  },
  {
   "cell_type": "code",
   "execution_count": 11,
   "metadata": {},
   "outputs": [],
   "source": [
    "d = collections.defaultdict(bool)\n",
    "\n",
    "for i, j in itertools.product(range(25), range(25)):\n",
    "    d[(i, j)] = M[i, j]"
   ]
  },
  {
   "cell_type": "code",
   "execution_count": 8,
   "metadata": {},
   "outputs": [],
   "source": [
    "dirs = [\n",
    "    [-1, 0],\n",
    "    [0, 1],\n",
    "    [1, 0],\n",
    "    [0, -1],\n",
    "]\n",
    "dirs = [array(i, dtype=int) for i in dirs]"
   ]
  },
  {
   "cell_type": "code",
   "execution_count": 12,
   "metadata": {},
   "outputs": [
    {
     "data": {
      "text/plain": [
       "5565"
      ]
     },
     "execution_count": 12,
     "metadata": {},
     "output_type": "execute_result"
    }
   ],
   "source": [
    "pos = array([12, 12], dtype=int)\n",
    "dir_i = 0\n",
    "\n",
    "c = 0\n",
    "\n",
    "for i in range(10000):\n",
    "    b = d[tuple(pos)]\n",
    "    \n",
    "    dir_i = (dir_i + (1 if b else -1) + 4) % 4\n",
    "    if not b:\n",
    "        c += 1\n",
    "    d[tuple(pos)] = not b\n",
    "    \n",
    "    pos += dirs[dir_i]\n",
    "    \n",
    "c"
   ]
  },
  {
   "cell_type": "code",
   "execution_count": 13,
   "metadata": {},
   "outputs": [],
   "source": [
    "M = array([[int(j == '#') * 2 for j in i] for i in lines], dtype=int)"
   ]
  },
  {
   "cell_type": "code",
   "execution_count": 17,
   "metadata": {},
   "outputs": [],
   "source": [
    "d = collections.defaultdict(int)\n",
    "\n",
    "for i, j in itertools.product(range(25), range(25)):\n",
    "    d[(i, j)] = M[i, j]"
   ]
  },
  {
   "cell_type": "code",
   "execution_count": 18,
   "metadata": {},
   "outputs": [
    {
     "name": "stderr",
     "output_type": "stream",
     "text": [
      "100%|██████████| 10000000/10000000 [00:46<00:00, 215298.64it/s]\n"
     ]
    },
    {
     "data": {
      "text/plain": [
       "2511978"
      ]
     },
     "execution_count": 18,
     "metadata": {},
     "output_type": "execute_result"
    }
   ],
   "source": [
    "pos = array([12, 12], dtype=int)\n",
    "dir_i = 0\n",
    "\n",
    "c = 0\n",
    "\n",
    "for i in tqdm.trange(10000000):\n",
    "    b = d[tuple(pos)]\n",
    "    \n",
    "    if b == 0:\n",
    "        dir_i = (dir_i + 3) % 4\n",
    "    if b == 2:\n",
    "        dir_i = (dir_i + 1) % 4\n",
    "    if b == 3:\n",
    "        dir_i = (dir_i + 2) % 4\n",
    "    \n",
    "    if b == 1:\n",
    "        c += 1\n",
    "    d[tuple(pos)] = (b + 1) % 4\n",
    "    \n",
    "    pos += dirs[dir_i]\n",
    "    \n",
    "c"
   ]
  },
  {
   "cell_type": "code",
   "execution_count": null,
   "metadata": {},
   "outputs": [],
   "source": []
  }
 ],
 "metadata": {
  "kernelspec": {
   "display_name": "Python 3",
   "language": "python",
   "name": "python3"
  },
  "language_info": {
   "codemirror_mode": {
    "name": "ipython",
    "version": 3
   },
   "file_extension": ".py",
   "mimetype": "text/x-python",
   "name": "python",
   "nbconvert_exporter": "python",
   "pygments_lexer": "ipython3",
   "version": "3.6.3"
  }
 },
 "nbformat": 4,
 "nbformat_minor": 1
}
