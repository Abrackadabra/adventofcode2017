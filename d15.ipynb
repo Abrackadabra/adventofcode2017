{
 "cells": [
  {
   "cell_type": "code",
   "execution_count": 1,
   "metadata": {},
   "outputs": [
    {
     "name": "stdout",
     "output_type": "stream",
     "text": [
      "Populating the interactive namespace from numpy and matplotlib\n"
     ]
    }
   ],
   "source": [
    "%pylab inline"
   ]
  },
  {
   "cell_type": "code",
   "execution_count": 2,
   "metadata": {},
   "outputs": [],
   "source": [
    "import requests\n",
    "\n",
    "cookies = {\n",
    "    'session': '53616c7465645f5f465a94508e1037cf931dedaf44e298b1be500ec71305ff01432a6584b1fe922ea5bab725d96f17b1'\n",
    "}\n",
    "\n",
    "url = 'http://adventofcode.com/2017/day/15/input'\n",
    "\n",
    "r = requests.get(url, cookies=cookies)\n",
    "\n",
    "lines = [i.strip() for i in r.text.split('\\n')][:-1]"
   ]
  },
  {
   "cell_type": "code",
   "execution_count": 30,
   "metadata": {},
   "outputs": [
    {
     "name": "stderr",
     "output_type": "stream",
     "text": [
      "\r",
      " 25%|██▍       | 9941478/40000000 [00:30<01:30, 331189.81it/s]"
     ]
    }
   ],
   "source": [
    "g1_prev, g2_prev = 65, 8921\n",
    "\n",
    "def g1():\n",
    "    global g1_prev\n",
    "    g1_prev = (g1_prev * 16807) % 2147483647\n",
    "    return g1_prev\n",
    "\n",
    "def g2():\n",
    "    global g2_prev\n",
    "    g2_prev = (g2_prev * 48271) % 2147483647\n",
    "    return g2_prev"
   ]
  },
  {
   "cell_type": "code",
   "execution_count": 23,
   "metadata": {},
   "outputs": [
    {
     "name": "stdout",
     "output_type": "stream",
     "text": [
      "00000000000100001010101101100111\n",
      "00011001101010101101001100110111\n",
      "\n",
      "01000110011001001111011100111001\n",
      "01001001100010001000010110001000\n",
      "\n",
      "00001110101000101110001101001010\n",
      "01010101010100101110001101001010\n",
      "\n",
      "01100111111110000001011011000111\n",
      "00001000001101111100110000000111\n",
      "\n",
      "01010000100111111001100000100100\n",
      "00010001000000000010100000000100\n",
      "\n"
     ]
    }
   ],
   "source": [
    "for i in range(5):\n",
    "    print(f'{g1():032b}')\n",
    "    print(f'{g2():032b}')\n",
    "    print()"
   ]
  },
  {
   "cell_type": "code",
   "execution_count": 25,
   "metadata": {},
   "outputs": [
    {
     "name": "stdout",
     "output_type": "stream",
     "text": [
      "1092455\n",
      "430625591\n",
      "\n",
      "1181022009\n",
      "1233683848\n",
      "\n",
      "245556042\n",
      "1431495498\n",
      "\n",
      "1744312007\n",
      "137874439\n",
      "\n",
      "1352636452\n",
      "285222916\n",
      "\n"
     ]
    }
   ],
   "source": [
    "for i in range(5):\n",
    "    print(f'{g1()}')\n",
    "    print(f'{g2()}')\n",
    "    print()"
   ]
  },
  {
   "cell_type": "code",
   "execution_count": 15,
   "metadata": {},
   "outputs": [
    {
     "data": {
      "text/plain": [
       "65536"
      ]
     },
     "execution_count": 15,
     "metadata": {},
     "output_type": "execute_result"
    }
   ],
   "source": [
    "2 ** 16"
   ]
  },
  {
   "cell_type": "code",
   "execution_count": 16,
   "metadata": {},
   "outputs": [],
   "source": [
    "def match(a, b):\n",
    "    return (a % 65536) == (b % 65536)"
   ]
  },
  {
   "cell_type": "code",
   "execution_count": 18,
   "metadata": {},
   "outputs": [],
   "source": [
    "import tqdm"
   ]
  },
  {
   "cell_type": "code",
   "execution_count": 52,
   "metadata": {},
   "outputs": [],
   "source": [
    "g1_prev_p, g2_prev_p = 65, 8921\n",
    "\n",
    "g1_mult = 16807\n",
    "g2_mult = 48271\n",
    "mod = 2147483647"
   ]
  },
  {
   "cell_type": "code",
   "execution_count": null,
   "metadata": {},
   "outputs": [],
   "source": []
  },
  {
   "cell_type": "code",
   "execution_count": 51,
   "metadata": {},
   "outputs": [],
   "source": [
    "n = 80000000\n",
    "\n",
    "g1_mults = zeros(n, dtype=int)\n",
    "g2_mults = zeros(n, dtype=int)\n",
    "\n",
    "g1_mults[0] = g1_mult % mod\n",
    "g2_mults[0] = g2_mult % mod\n",
    "\n",
    "for i in range(1, n):\n",
    "    g1_mults[i] = g1_mults[i - 1] * g1_mult % mod\n",
    "    g2_mults[i] = g2_mults[i - 1] * g2_mult % mod"
   ]
  },
  {
   "cell_type": "code",
   "execution_count": 53,
   "metadata": {},
   "outputs": [],
   "source": [
    "g1_mults_p = g1_mults * g1_prev_p % mod\n",
    "g2_mults_p = g2_mults * g2_prev_p % mod"
   ]
  },
  {
   "cell_type": "code",
   "execution_count": 54,
   "metadata": {},
   "outputs": [
    {
     "data": {
      "text/plain": [
       "1164"
      ]
     },
     "execution_count": 54,
     "metadata": {},
     "output_type": "execute_result"
    }
   ],
   "source": [
    "sum((g1_mults_p % 65536) == (g2_mults_p % 65536))"
   ]
  },
  {
   "cell_type": "code",
   "execution_count": 40,
   "metadata": {},
   "outputs": [
    {
     "data": {
      "text/plain": [
       "['Generator A starts with 873', 'Generator B starts with 583']"
      ]
     },
     "execution_count": 40,
     "metadata": {},
     "output_type": "execute_result"
    }
   ],
   "source": [
    "lines[:2]"
   ]
  },
  {
   "cell_type": "code",
   "execution_count": 55,
   "metadata": {},
   "outputs": [],
   "source": [
    "g1_prev_o = 873\n",
    "g2_prev_o = 583"
   ]
  },
  {
   "cell_type": "code",
   "execution_count": 56,
   "metadata": {},
   "outputs": [
    {
     "data": {
      "text/plain": [
       "1241"
      ]
     },
     "execution_count": 56,
     "metadata": {},
     "output_type": "execute_result"
    }
   ],
   "source": [
    "g1_mults_o = g1_mults * g1_prev_o % mod\n",
    "g2_mults_o = g2_mults * g2_prev_o % mod\n",
    "sum((g1_mults_o % 65536) == (g2_mults_o % 65536))"
   ]
  },
  {
   "cell_type": "code",
   "execution_count": 58,
   "metadata": {},
   "outputs": [
    {
     "data": {
      "text/plain": [
       "9997285"
      ]
     },
     "execution_count": 58,
     "metadata": {},
     "output_type": "execute_result"
    }
   ],
   "source": [
    "sum(g2_mults_p % 8 == 0)"
   ]
  },
  {
   "cell_type": "code",
   "execution_count": 60,
   "metadata": {},
   "outputs": [
    {
     "data": {
      "text/plain": [
       "309"
      ]
     },
     "execution_count": 60,
     "metadata": {},
     "output_type": "execute_result"
    }
   ],
   "source": [
    "g1_mults_p_f = g1_mults_p[g1_mults_p % 4 == 0]\n",
    "g2_mults_p_f = g2_mults_p[g2_mults_p % 8 == 0]\n",
    "\n",
    "g1_mults_p_f = g1_mults_p_f[:5000000]\n",
    "g2_mults_p_f = g2_mults_p_f[:5000000]\n",
    "\n",
    "sum((g1_mults_p_f % 65536) == (g2_mults_p_f % 65536))"
   ]
  },
  {
   "cell_type": "code",
   "execution_count": 61,
   "metadata": {},
   "outputs": [
    {
     "data": {
      "text/plain": [
       "279"
      ]
     },
     "execution_count": 61,
     "metadata": {},
     "output_type": "execute_result"
    }
   ],
   "source": [
    "g1_mults_o_f = g1_mults_o[g1_mults_o % 4 == 0]\n",
    "g2_mults_o_f = g2_mults_o[g2_mults_o % 8 == 0]\n",
    "\n",
    "g1_mults_o_f = g1_mults_o_f[:5000000]\n",
    "g2_mults_o_f = g2_mults_o_f[:5000000]\n",
    "\n",
    "sum((g1_mults_o_f % 65536) == (g2_mults_o_f % 65536))"
   ]
  }
 ],
 "metadata": {
  "kernelspec": {
   "display_name": "Python 3",
   "language": "python",
   "name": "python3"
  },
  "language_info": {
   "codemirror_mode": {
    "name": "ipython",
    "version": 3
   },
   "file_extension": ".py",
   "mimetype": "text/x-python",
   "name": "python",
   "nbconvert_exporter": "python",
   "pygments_lexer": "ipython3",
   "version": "3.6.3"
  }
 },
 "nbformat": 4,
 "nbformat_minor": 1
}
